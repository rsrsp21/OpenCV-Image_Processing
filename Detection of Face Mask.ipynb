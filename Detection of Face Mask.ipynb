{
 "cells": [
  {
   "cell_type": "markdown",
   "id": "1cee6fec",
   "metadata": {},
   "source": [
    "# Face Mask Detection - Image Processing and Computer Vision Project"
   ]
  },
  {
   "cell_type": "markdown",
   "id": "d96047f3",
   "metadata": {},
   "source": [
    "## By Sri Ram Sai Pavan Relangi"
   ]
  },
  {
   "cell_type": "markdown",
   "id": "14284154",
   "metadata": {},
   "source": [
    "## Importing Libraries"
   ]
  },
  {
   "cell_type": "code",
   "execution_count": 16,
   "id": "9604c6f6",
   "metadata": {},
   "outputs": [],
   "source": [
    "import os\n",
    "import numpy as np\n",
    "import cv2\n",
    "from tensorflow.keras.models import Sequential\n",
    "from tensorflow.keras.layers import Conv2D, MaxPooling2D, Flatten, Dense, Dropout\n",
    "from tensorflow.keras.preprocessing.image import ImageDataGenerator"
   ]
  },
  {
   "cell_type": "markdown",
   "id": "20ed8136",
   "metadata": {},
   "source": [
    "## Preparing the dataset"
   ]
  },
  {
   "cell_type": "code",
   "execution_count": 17,
   "id": "cdc8f013",
   "metadata": {},
   "outputs": [],
   "source": [
    "def load_images_from_folder(folder):\n",
    "    images = []\n",
    "    for filename in os.listdir(folder):\n",
    "        img = cv2.imread(os.path.join(folder, filename))\n",
    "        if img is not None:\n",
    "            img = cv2.resize(img, (128, 128))\n",
    "            images.append(img)\n",
    "    return images"
   ]
  },
  {
   "cell_type": "code",
   "execution_count": 18,
   "id": "60e973b8",
   "metadata": {},
   "outputs": [],
   "source": [
    "with_mask_images = load_images_from_folder(\"Face_Mask_Dataset/Mask\")\n",
    "without_mask_images = load_images_from_folder(\"Face_Mask_Dataset/No Mask\")"
   ]
  },
  {
   "cell_type": "markdown",
   "id": "d2034d23",
   "metadata": {},
   "source": [
    "### Converting Images to numpy arrays"
   ]
  },
  {
   "cell_type": "code",
   "execution_count": 19,
   "id": "e10e8fe0",
   "metadata": {},
   "outputs": [],
   "source": [
    "with_mask_images = np.array(with_mask_images)\n",
    "without_mask_images = np.array(without_mask_images)"
   ]
  },
  {
   "cell_type": "markdown",
   "id": "f99f8423",
   "metadata": {},
   "source": [
    "### Creating corresponding labels"
   ]
  },
  {
   "cell_type": "code",
   "execution_count": 20,
   "id": "97db8fb3",
   "metadata": {},
   "outputs": [],
   "source": [
    "with_mask_labels = np.ones(len(with_mask_images))\n",
    "without_mask_labels = np.zeros(len(without_mask_images))"
   ]
  },
  {
   "cell_type": "markdown",
   "id": "057d20b5",
   "metadata": {},
   "source": [
    "### Splitting the dataset into training and testing sets"
   ]
  },
  {
   "cell_type": "code",
   "execution_count": 21,
   "id": "72aae977",
   "metadata": {},
   "outputs": [],
   "source": [
    "X_train = np.concatenate((with_mask_images[:8000], without_mask_images[:8000]), axis=0)\n",
    "y_train = np.concatenate((with_mask_labels[:8000], without_mask_labels[:8000]), axis=0)\n",
    "X_test = np.concatenate((with_mask_images[8000:], without_mask_images[8000:]), axis=0)\n",
    "y_test = np.concatenate((with_mask_labels[8000:], without_mask_labels[8000:]), axis=0)"
   ]
  },
  {
   "cell_type": "markdown",
   "id": "b53c81fd",
   "metadata": {},
   "source": [
    "### Normalize the Image data"
   ]
  },
  {
   "cell_type": "code",
   "execution_count": 22,
   "id": "3dc19642",
   "metadata": {},
   "outputs": [],
   "source": [
    "X_train = X_train / 255.0\n",
    "X_test = X_test / 255.0"
   ]
  },
  {
   "cell_type": "markdown",
   "id": "a4139376",
   "metadata": {},
   "source": [
    "## Building CNN Model (Convolutional Neural Networks)"
   ]
  },
  {
   "cell_type": "code",
   "execution_count": 23,
   "id": "80ff2b2b",
   "metadata": {},
   "outputs": [],
   "source": [
    "model = Sequential()\n",
    "model.add(Conv2D(32, (3, 3), activation='relu', input_shape=(128, 128, 3)))\n",
    "model.add(MaxPooling2D((2, 2)))\n",
    "model.add(Conv2D(64, (3, 3), activation='relu'))\n",
    "model.add(MaxPooling2D((2, 2)))\n",
    "model.add(Flatten())\n",
    "model.add(Dense(64, activation='relu'))\n",
    "model.add(Dropout(0.5))\n",
    "model.add(Dense(1, activation='sigmoid'))"
   ]
  },
  {
   "cell_type": "code",
   "execution_count": 24,
   "id": "8aab7a39",
   "metadata": {},
   "outputs": [],
   "source": [
    "model.compile(optimizer='adam', loss='binary_crossentropy', metrics=['accuracy'])"
   ]
  },
  {
   "cell_type": "markdown",
   "id": "13b2bb0f",
   "metadata": {},
   "source": [
    "## Training the model"
   ]
  },
  {
   "cell_type": "code",
   "execution_count": 25,
   "id": "92fe9391",
   "metadata": {},
   "outputs": [
    {
     "name": "stdout",
     "output_type": "stream",
     "text": [
      "Epoch 1/10\n",
      "11/11 [==============================] - 9s 530ms/step - loss: 1.1014 - accuracy: 0.5490\n",
      "Epoch 2/10\n",
      "11/11 [==============================] - 5s 481ms/step - loss: 0.5700 - accuracy: 0.7359\n",
      "Epoch 3/10\n",
      "11/11 [==============================] - 5s 440ms/step - loss: 0.4250 - accuracy: 0.8487\n",
      "Epoch 4/10\n",
      "11/11 [==============================] - 5s 430ms/step - loss: 0.3567 - accuracy: 0.8576\n",
      "Epoch 5/10\n",
      "11/11 [==============================] - 5s 457ms/step - loss: 0.2502 - accuracy: 0.9080\n",
      "Epoch 6/10\n",
      "11/11 [==============================] - 5s 486ms/step - loss: 0.1955 - accuracy: 0.9169\n",
      "Epoch 7/10\n",
      "11/11 [==============================] - 5s 450ms/step - loss: 0.1492 - accuracy: 0.9674\n",
      "Epoch 8/10\n",
      "11/11 [==============================] - 6s 525ms/step - loss: 0.1190 - accuracy: 0.9614\n",
      "Epoch 9/10\n",
      "11/11 [==============================] - 5s 492ms/step - loss: 0.0720 - accuracy: 0.9822\n",
      "Epoch 10/10\n",
      "11/11 [==============================] - 5s 472ms/step - loss: 0.0478 - accuracy: 0.9881\n"
     ]
    },
    {
     "data": {
      "text/plain": [
       "<keras.callbacks.History at 0x1f983d6e910>"
      ]
     },
     "execution_count": 25,
     "metadata": {},
     "output_type": "execute_result"
    }
   ],
   "source": [
    "model.fit(X_train, y_train, epochs=10, batch_size=32, validation_data=(X_test, y_test))"
   ]
  },
  {
   "cell_type": "markdown",
   "id": "259f7519",
   "metadata": {},
   "source": [
    "## Saving the model"
   ]
  },
  {
   "cell_type": "code",
   "execution_count": 26,
   "id": "25499fbd",
   "metadata": {},
   "outputs": [],
   "source": [
    "model.save('mask_detection_model.h5')"
   ]
  },
  {
   "cell_type": "markdown",
   "id": "c6b2d427",
   "metadata": {},
   "source": [
    "## Testing the Model"
   ]
  },
  {
   "cell_type": "code",
   "execution_count": 28,
   "id": "f37a6477",
   "metadata": {},
   "outputs": [
    {
     "name": "stdout",
     "output_type": "stream",
     "text": [
      "1/1 [==============================] - 0s 379ms/step\n",
      "1/1 [==============================] - 0s 73ms/step\n",
      "1/1 [==============================] - 0s 76ms/step\n",
      "1/1 [==============================] - 0s 72ms/step\n",
      "1/1 [==============================] - 0s 77ms/step\n",
      "1/1 [==============================] - 0s 73ms/step\n",
      "1/1 [==============================] - 0s 73ms/step\n",
      "1/1 [==============================] - 0s 79ms/step\n",
      "1/1 [==============================] - 0s 75ms/step\n",
      "1/1 [==============================] - 0s 74ms/step\n",
      "1/1 [==============================] - 0s 69ms/step\n",
      "1/1 [==============================] - 0s 49ms/step\n",
      "1/1 [==============================] - 0s 24ms/step\n",
      "1/1 [==============================] - 0s 31ms/step\n",
      "1/1 [==============================] - 0s 25ms/step\n",
      "1/1 [==============================] - 0s 27ms/step\n",
      "1/1 [==============================] - 0s 25ms/step\n",
      "1/1 [==============================] - 0s 36ms/step\n",
      "1/1 [==============================] - 0s 37ms/step\n",
      "1/1 [==============================] - 0s 28ms/step\n",
      "1/1 [==============================] - 0s 25ms/step\n",
      "1/1 [==============================] - 0s 31ms/step\n",
      "1/1 [==============================] - 0s 27ms/step\n",
      "1/1 [==============================] - 0s 27ms/step\n",
      "1/1 [==============================] - 0s 26ms/step\n",
      "1/1 [==============================] - 0s 29ms/step\n",
      "1/1 [==============================] - 0s 23ms/step\n",
      "1/1 [==============================] - 0s 25ms/step\n",
      "1/1 [==============================] - 0s 24ms/step\n",
      "1/1 [==============================] - 0s 28ms/step\n",
      "1/1 [==============================] - 0s 25ms/step\n",
      "1/1 [==============================] - 0s 24ms/step\n",
      "1/1 [==============================] - 0s 25ms/step\n",
      "1/1 [==============================] - 0s 26ms/step\n",
      "1/1 [==============================] - 0s 25ms/step\n",
      "1/1 [==============================] - 0s 23ms/step\n",
      "1/1 [==============================] - 0s 24ms/step\n",
      "1/1 [==============================] - 0s 27ms/step\n",
      "1/1 [==============================] - 0s 24ms/step\n",
      "1/1 [==============================] - 0s 23ms/step\n",
      "1/1 [==============================] - 0s 26ms/step\n",
      "1/1 [==============================] - 0s 24ms/step\n",
      "1/1 [==============================] - 0s 25ms/step\n",
      "1/1 [==============================] - 0s 24ms/step\n",
      "1/1 [==============================] - 0s 24ms/step\n",
      "1/1 [==============================] - 0s 26ms/step\n",
      "1/1 [==============================] - 0s 26ms/step\n",
      "1/1 [==============================] - 0s 27ms/step\n",
      "1/1 [==============================] - 0s 24ms/step\n",
      "1/1 [==============================] - 0s 24ms/step\n",
      "1/1 [==============================] - 0s 25ms/step\n",
      "1/1 [==============================] - 0s 24ms/step\n",
      "1/1 [==============================] - 0s 32ms/step\n",
      "1/1 [==============================] - 0s 37ms/step\n",
      "1/1 [==============================] - 0s 26ms/step\n",
      "1/1 [==============================] - 0s 29ms/step\n",
      "1/1 [==============================] - 0s 25ms/step\n",
      "1/1 [==============================] - 0s 25ms/step\n",
      "1/1 [==============================] - 0s 43ms/step\n",
      "1/1 [==============================] - 0s 31ms/step\n",
      "1/1 [==============================] - 0s 23ms/step\n",
      "1/1 [==============================] - 0s 25ms/step\n",
      "1/1 [==============================] - 0s 31ms/step\n",
      "1/1 [==============================] - 0s 25ms/step\n",
      "1/1 [==============================] - 0s 24ms/step\n"
     ]
    }
   ],
   "source": [
    "face_cascade = cv2.CascadeClassifier(cv2.data.haarcascades + 'haarcascade_frontalface_default.xml')\n",
    "video_capture = cv2.VideoCapture(0)\n",
    "\n",
    "while True:\n",
    "    ret, frame = video_capture.read()\n",
    "    gray = cv2.cvtColor(frame, cv2.COLOR_BGR2GRAY)\n",
    "    faces = face_cascade.detectMultiScale(gray, 1.3, 5)\n",
    "\n",
    "    for (x, y, w, h) in faces:\n",
    "        face_roi = frame[y:y + h, x:x + w]\n",
    "        face_roi = cv2.resize(face_roi, (128, 128))\n",
    "        face_roi = np.expand_dims(face_roi, axis=0)\n",
    "        face_roi = face_roi / 255.0\n",
    "\n",
    "        prediction = model.predict(face_roi)\n",
    "        if prediction > 0.5:\n",
    "            label = 'With Mask'\n",
    "        else:\n",
    "            label = 'Without Mask'\n",
    "\n",
    "        cv2.putText(frame, label, (x, y - 10), cv2.FONT_HERSHEY_SIMPLEX, 0.9, (0, 255, 0), 2)\n",
    "        cv2.rectangle(frame, (x, y), (x + w, y + h), (0, 255, 0), 2)\n",
    "\n",
    "    cv2.imshow('Video', frame)\n",
    "    if cv2.waitKey(1) & 0xFF == ord('q'):\n",
    "        break\n",
    "\n",
    "video_capture.release()\n",
    "cv2.destroyAllWindows()\n"
   ]
  },
  {
   "cell_type": "code",
   "execution_count": null,
   "id": "155fb8a4",
   "metadata": {},
   "outputs": [],
   "source": []
  }
 ],
 "metadata": {
  "kernelspec": {
   "display_name": "Python 3 (ipykernel)",
   "language": "python",
   "name": "python3"
  },
  "language_info": {
   "codemirror_mode": {
    "name": "ipython",
    "version": 3
   },
   "file_extension": ".py",
   "mimetype": "text/x-python",
   "name": "python",
   "nbconvert_exporter": "python",
   "pygments_lexer": "ipython3",
   "version": "3.9.16"
  }
 },
 "nbformat": 4,
 "nbformat_minor": 5
}
