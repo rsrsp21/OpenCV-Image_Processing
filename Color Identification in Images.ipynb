{
 "cells": [
  {
   "cell_type": "markdown",
   "id": "13a1fb43",
   "metadata": {},
   "source": [
    "# Color Identification in Images - Computer Vision Project"
   ]
  },
  {
   "cell_type": "markdown",
   "id": "432b902b",
   "metadata": {},
   "source": [
    "## By Sri Ram Sai Pavan Relangi"
   ]
  },
  {
   "cell_type": "code",
   "execution_count": 8,
   "id": "7ae1c81d",
   "metadata": {},
   "outputs": [],
   "source": [
    "import cv2\n",
    "import numpy as np\n",
    "from sklearn.cluster import KMeans\n",
    "import webcolors"
   ]
  },
  {
   "cell_type": "code",
   "execution_count": 9,
   "id": "dccabd82",
   "metadata": {},
   "outputs": [],
   "source": [
    "def color_detector(image, num_colors):\n",
    "    image = cv2.cvtColor(image, cv2.COLOR_BGR2RGB)\n",
    "    image = image.reshape(image.shape[0] * image.shape[1], 3)\n",
    "    kmeans = KMeans(n_clusters=num_colors)\n",
    "    kmeans.fit(image)\n",
    "    colors = kmeans.cluster_centers_\n",
    "    colors = colors.astype(int)\n",
    "    return colors"
   ]
  },
  {
   "cell_type": "code",
   "execution_count": 10,
   "id": "d6c507ef",
   "metadata": {},
   "outputs": [],
   "source": [
    "def get_color_name(rgb):\n",
    "    if np.array_equal(rgb, [0, 0, 0]):\n",
    "        return 'black', '#000000'\n",
    "    hex_value = None\n",
    "    try:\n",
    "        color_name = webcolors.rgb_to_name(rgb)\n",
    "    except ValueError:\n",
    "        min_colors = {}\n",
    "        for color_name, hex_value in webcolors.CSS3_NAMES_TO_HEX.items():\n",
    "            r_c, g_c, b_c = webcolors.hex_to_rgb(hex_value)\n",
    "            rd = (r_c - rgb[0]) ** 2\n",
    "            gd = (g_c - rgb[1]) ** 2\n",
    "            bd = (b_c - rgb[2]) ** 2\n",
    "            min_colors[(rd + gd + bd)] = (color_name, hex_value)\n",
    "        closest_color = min_colors[min(min_colors.keys())]\n",
    "        color_name = closest_color[0]\n",
    "        hex_value = closest_color[1]\n",
    "    return color_name, hex_value"
   ]
  },
  {
   "cell_type": "code",
   "execution_count": 11,
   "id": "20a1a44d",
   "metadata": {},
   "outputs": [],
   "source": [
    "image_path = \"Sample_Image.jpg\"\n",
    "num_colors = 5"
   ]
  },
  {
   "cell_type": "code",
   "execution_count": 12,
   "id": "f38fe53d",
   "metadata": {},
   "outputs": [],
   "source": [
    "image = cv2.imread(image_path)\n",
    "colors = color_detector(image, num_colors)"
   ]
  },
  {
   "cell_type": "code",
   "execution_count": 13,
   "id": "e6f5a938",
   "metadata": {},
   "outputs": [
    {
     "name": "stdout",
     "output_type": "stream",
     "text": [
      "Detected color: black (#000000)\n",
      "Detected color: dodgerblue (#1e90ff)\n",
      "Detected color: crimson (#dc143c)\n",
      "Detected color: lavender (#e6e6fa)\n",
      "Detected color: darkslategrey (#2f4f4f)\n"
     ]
    }
   ],
   "source": [
    "for color in colors:\n",
    "    color_name, hex_value = get_color_name(color)\n",
    "    print(f\"Detected color: {color_name} ({hex_value})\")"
   ]
  }
 ],
 "metadata": {
  "kernelspec": {
   "display_name": "Python 3 (ipykernel)",
   "language": "python",
   "name": "python3"
  },
  "language_info": {
   "codemirror_mode": {
    "name": "ipython",
    "version": 3
   },
   "file_extension": ".py",
   "mimetype": "text/x-python",
   "name": "python",
   "nbconvert_exporter": "python",
   "pygments_lexer": "ipython3",
   "version": "3.9.12"
  }
 },
 "nbformat": 4,
 "nbformat_minor": 5
}
